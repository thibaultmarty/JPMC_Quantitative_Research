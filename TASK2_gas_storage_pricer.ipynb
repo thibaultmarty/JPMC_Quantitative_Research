{
 "cells": [
  {
   "cell_type": "markdown",
   "metadata": {},
   "source": [
    "# Natural Gas Storage Contract's Pricer #\n",
    "The goal of this tool is to give a price range for which a full contract can be sold to a client, and still be profitable for the company.\n",
    "\n",
    "#### JP Morgan Instructions : ####\n",
    "The input parameters that should be taken into account for pricing are:\n",
    "1. Injection dates. \n",
    "2. Withdrawal dates.\n",
    "3. The prices at which the commodity can be purchased/sold on those dates.\n",
    "4. The rate at which the gas can be injected/withdrawn.\n",
    "5. The maximum volume that can be stored.\n",
    "6. Storage costs.\n",
    "\n",
    "### Setting the Libraries and preparing the data ###"
   ]
  },
  {
   "cell_type": "code",
   "execution_count": 40,
   "metadata": {},
   "outputs": [],
   "source": [
    "# Importing Libraries\n",
    "import pandas as pd\n",
    "import numpy as np\n",
    "import seaborn as sns\n",
    "from scipy import stats\n",
    "from scipy.stats import norm\n",
    "import matplotlib.pyplot as plt\n",
    "import matplotlib.dates as mdates\n",
    "from datetime import datetime, date\n",
    "import math"
   ]
  },
  {
   "cell_type": "code",
   "execution_count": 41,
   "metadata": {},
   "outputs": [
    {
     "name": "stderr",
     "output_type": "stream",
     "text": [
      "/var/folders/0v/nd2019hd3lxb6r07g9ywbv500000gn/T/ipykernel_94243/4155221353.py:3: UserWarning: Could not infer format, so each element will be parsed individually, falling back to `dateutil`. To ensure parsing is consistent and as-expected, please specify a format.\n",
      "  gas_df['Dates'] = pd.to_datetime(gas_df['Dates'])\n"
     ]
    },
    {
     "data": {
      "text/html": [
       "<div>\n",
       "<style scoped>\n",
       "    .dataframe tbody tr th:only-of-type {\n",
       "        vertical-align: middle;\n",
       "    }\n",
       "\n",
       "    .dataframe tbody tr th {\n",
       "        vertical-align: top;\n",
       "    }\n",
       "\n",
       "    .dataframe thead th {\n",
       "        text-align: right;\n",
       "    }\n",
       "</style>\n",
       "<table border=\"1\" class=\"dataframe\">\n",
       "  <thead>\n",
       "    <tr style=\"text-align: right;\">\n",
       "      <th></th>\n",
       "      <th>Prices</th>\n",
       "    </tr>\n",
       "    <tr>\n",
       "      <th>Dates</th>\n",
       "      <th></th>\n",
       "    </tr>\n",
       "  </thead>\n",
       "  <tbody>\n",
       "    <tr>\n",
       "      <th>2020-10-31</th>\n",
       "      <td>10.1</td>\n",
       "    </tr>\n",
       "    <tr>\n",
       "      <th>2020-11-30</th>\n",
       "      <td>10.3</td>\n",
       "    </tr>\n",
       "    <tr>\n",
       "      <th>2020-12-31</th>\n",
       "      <td>11.0</td>\n",
       "    </tr>\n",
       "    <tr>\n",
       "      <th>2021-01-31</th>\n",
       "      <td>10.9</td>\n",
       "    </tr>\n",
       "    <tr>\n",
       "      <th>2021-02-28</th>\n",
       "      <td>10.9</td>\n",
       "    </tr>\n",
       "  </tbody>\n",
       "</table>\n",
       "</div>"
      ],
      "text/plain": [
       "            Prices\n",
       "Dates             \n",
       "2020-10-31    10.1\n",
       "2020-11-30    10.3\n",
       "2020-12-31    11.0\n",
       "2021-01-31    10.9\n",
       "2021-02-28    10.9"
      ]
     },
     "execution_count": 41,
     "metadata": {},
     "output_type": "execute_result"
    }
   ],
   "source": [
    "# Importing and treating the data\n",
    "gas_df = pd.read_csv('natural_gas_market_data.csv')\n",
    "gas_df['Dates'] = pd.to_datetime(gas_df['Dates'])\n",
    "gas_df.set_index('Dates', inplace=True)\n",
    "gas_df.head()"
   ]
  },
  {
   "cell_type": "code",
   "execution_count": 42,
   "metadata": {},
   "outputs": [
    {
     "name": "stderr",
     "output_type": "stream",
     "text": [
      "/Users/thibaultmarty/miniconda3/lib/python3.12/site-packages/statsmodels/tsa/base/tsa_model.py:473: ValueWarning: No frequency information was provided, so inferred frequency ME will be used.\n",
      "  self._init_dates(dates, freq)\n",
      "/Users/thibaultmarty/miniconda3/lib/python3.12/site-packages/statsmodels/tsa/base/tsa_model.py:473: ValueWarning: No frequency information was provided, so inferred frequency ME will be used.\n",
      "  self._init_dates(dates, freq)\n",
      "/Users/thibaultmarty/miniconda3/lib/python3.12/site-packages/statsmodels/tsa/statespace/representation.py:374: FutureWarning: Unknown keyword arguments: dict_keys(['verbose']).Passing unknown keyword arguments will raise a TypeError beginning in version 0.15.\n",
      "  warnings.warn(msg, FutureWarning)\n",
      "/Users/thibaultmarty/miniconda3/lib/python3.12/site-packages/statsmodels/tsa/statespace/sarimax.py:866: UserWarning: Too few observations to estimate starting parameters for seasonal ARMA. All parameters except for variances will be set to zeros.\n",
      "  warn('Too few observations to estimate starting parameters%s.'\n",
      " This problem is unconstrained.\n"
     ]
    },
    {
     "name": "stdout",
     "output_type": "stream",
     "text": [
      "RUNNING THE L-BFGS-B CODE\n",
      "\n",
      "           * * *\n",
      "\n",
      "Machine precision = 2.220D-16\n",
      " N =            7     M =           10\n",
      "\n",
      "At X0         0 variables are exactly at the bounds\n",
      "\n",
      "At iterate    0    f=  1.63074D-01    |proj g|=  1.65386D-01\n",
      "\n",
      "At iterate    5    f=  7.81620D-02    |proj g|=  1.75871D-01\n",
      "\n",
      "At iterate   10    f=  4.61098D-02    |proj g|=  1.34652D-01\n",
      "\n",
      "At iterate   15    f=  4.24090D-02    |proj g|=  5.41430D-02\n",
      "\n",
      "At iterate   20    f=  1.52570D-02    |proj g|=  2.31647D-01\n",
      "\n",
      "At iterate   25    f=  2.03654D-03    |proj g|=  6.46259D-02\n",
      "\n",
      "At iterate   30    f= -3.65749D-03    |proj g|=  2.00373D-02\n",
      "\n",
      "At iterate   35    f= -4.49468D-03    |proj g|=  6.66961D-02\n",
      "\n",
      "At iterate   40    f= -4.59249D-03    |proj g|=  7.43199D-03\n",
      "\n",
      "At iterate   45    f= -4.59397D-03    |proj g|=  3.21794D-03\n",
      "\n",
      "At iterate   50    f= -4.59412D-03    |proj g|=  6.31825D-05\n",
      "\n",
      "           * * *\n",
      "\n",
      "Tit   = total number of iterations\n",
      "Tnf   = total number of function evaluations\n",
      "Tnint = total number of segments explored during Cauchy searches\n",
      "Skip  = number of BFGS updates skipped\n",
      "Nact  = number of active bounds at final generalized Cauchy point\n",
      "Projg = norm of the final projected gradient\n",
      "F     = final function value\n",
      "\n",
      "           * * *\n",
      "\n",
      "   N    Tit     Tnf  Tnint  Skip  Nact     Projg        F\n",
      "    7     50     65      1     0     0   6.318D-05  -4.594D-03\n",
      "  F =  -4.5941209498197733E-003\n",
      "\n",
      "STOP: TOTAL NO. of ITERATIONS REACHED LIMIT                 \n"
     ]
    },
    {
     "name": "stderr",
     "output_type": "stream",
     "text": [
      "/Users/thibaultmarty/miniconda3/lib/python3.12/site-packages/statsmodels/base/model.py:607: ConvergenceWarning: Maximum Likelihood optimization failed to converge. Check mle_retvals\n",
      "  warnings.warn(\"Maximum Likelihood optimization failed to \"\n",
      "/Users/thibaultmarty/miniconda3/lib/python3.12/site-packages/statsmodels/tsa/statespace/representation.py:374: FutureWarning: Unknown keyword arguments: dict_keys(['type', 'verbose']).Passing unknown keyword arguments will raise a TypeError beginning in version 0.15.\n",
      "  warnings.warn(msg, FutureWarning)\n"
     ]
    }
   ],
   "source": [
    "# Redefining the forecasting function from task 1\n",
    "def forecast_gas_prices(gas_df):\n",
    "    \n",
    "    from statsmodels.tsa.statespace.sarimax import SARIMAX\n",
    "    \n",
    "    # Splitting the data into training and testing sets\n",
    "    train_data = gas_df[:len(gas_df)-12]\n",
    "    test_data = gas_df[len(gas_df)-12:]\n",
    "    \n",
    "    # Compiling the model and saving it\n",
    "    arima_model = SARIMAX(train_data['Prices'], order=(2,1,2), seasonal_order=(1,1,1,12), verbose=0)\n",
    "    arima_result = arima_model.fit()\n",
    "    # arima_result.summary()\n",
    "    \n",
    "    # Predicting the next 12 months\n",
    "    arima_pred_12m = arima_result.predict(start=len(gas_df), end=len(gas_df)+12, type='levels', verbose=0).rename('ARIMA Predictions')\n",
    "    \n",
    "    # Convert `arima_pred_12m` (Series) to DataFrame\n",
    "    arima_pred_12m = arima_pred_12m.to_frame(name='forecast')\n",
    "    \n",
    "    # Reindex `arima_pred_12m` to align with `gas_df`\n",
    "    forecast_df = pd.DataFrame(index=arima_pred_12m.index)\n",
    "    forecast_df['forecast'] = arima_pred_12m['forecast']\n",
    "    forecast_df['Prices'] = float('NaN')  # Fill Prices with NaN\n",
    "\n",
    "    return forecast_df\n",
    "\n",
    "forecast_df = forecast_gas_prices(gas_df)"
   ]
  },
  {
   "cell_type": "code",
   "execution_count": 43,
   "metadata": {},
   "outputs": [
    {
     "name": "stdout",
     "output_type": "stream",
     "text": [
      "            Prices   forecast\n",
      "2020-10-31    10.1        NaN\n",
      "2020-11-30    10.3        NaN\n",
      "2020-12-31    11.0        NaN\n",
      "2021-01-31    10.9        NaN\n",
      "2021-02-28    10.9        NaN\n",
      "...            ...        ...\n",
      "2025-06-30     NaN  11.950996\n",
      "2025-07-31     NaN  12.352083\n",
      "2025-08-31     NaN  12.121968\n",
      "2025-09-30     NaN  12.496624\n",
      "2025-10-31     NaN  12.273729\n",
      "\n",
      "[61 rows x 2 columns]\n"
     ]
    }
   ],
   "source": [
    "# Obtaining the full dataset\n",
    "gas_df_combined = pd.concat([gas_df, forecast_df])\n",
    "print(gas_df_combined)"
   ]
  },
  {
   "cell_type": "code",
   "execution_count": 44,
   "metadata": {},
   "outputs": [],
   "source": [
    "# Function to find the quote for a given date\n",
    "def get_gas_quote(date):\n",
    "    '''\n",
    "    Function that returns the quote for a given date, using known quotes\n",
    "    and estimated quotes from the SARIMAX model.\n",
    "    Inputs:\n",
    "        date: date for which we want to find the quote\n",
    "    Outputs:\n",
    "        quote: quote for the given date\n",
    "    '''\n",
    "    # Convert date into a datetime object\n",
    "    input_date = pd.to_datetime(date)\n",
    "\n",
    "    # Check if the date is within the DataFrame index\n",
    "    if input_date in gas_df_combined.index:\n",
    "        # Check if 'Prices' is NaN for the input date\n",
    "        if pd.isna(gas_df_combined.loc[input_date, 'Prices']):\n",
    "            # Return the forecasted value\n",
    "            return gas_df_combined.loc[input_date, 'forecast']\n",
    "        else:\n",
    "            # Return the actual price\n",
    "            return gas_df_combined.loc[input_date, 'Prices']\n",
    "    else:\n",
    "        print('Date not found in the quotes.')\n",
    "        return None\n"
   ]
  },
  {
   "cell_type": "code",
   "execution_count": 45,
   "metadata": {},
   "outputs": [
    {
     "data": {
      "text/plain": [
       "12.35208326382871"
      ]
     },
     "execution_count": 45,
     "metadata": {},
     "output_type": "execute_result"
    }
   ],
   "source": [
    "quote = get_gas_quote('2025-07-31')\n",
    "quote"
   ]
  },
  {
   "cell_type": "code",
   "execution_count": 61,
   "metadata": {},
   "outputs": [],
   "source": [
    "# Function to model and compute the contract price\n",
    "def compute_contract_price(in_dates, in_prices, out_dates, out_prices, \n",
    "                           rate, storage_cost_rate, total_vol, \n",
    "                           injection_withdrawal_cost_rate):\n",
    "    volume = 0\n",
    "    buy_cost = 0\n",
    "    cash_in = 0\n",
    "    last_date = min(min(in_dates), min(out_dates))\n",
    "    \n",
    "    # Ensure dates are in sequence\n",
    "    all_dates = sorted(set(in_dates + out_dates))\n",
    "    \n",
    "    for i in range(len(all_dates)):\n",
    "        # processing code for each date\n",
    "        start_date = all_dates[i]\n",
    "\n",
    "        if start_date in in_dates:\n",
    "            # Inject on these dates and sum up cash flows\n",
    "            if volume <= total_vol - rate:\n",
    "                volume += rate\n",
    "\n",
    "                # Cost to purchase gas\n",
    "                buy_cost += rate * in_prices[in_dates.index(start_date)]\n",
    "                # Injection cost\n",
    "                injection_cost = rate * injection_withdrawal_cost_rate/1000000\n",
    "                buy_cost += injection_cost\n",
    "                print(f'Injected gas on {start_date.strftime('%Y-%m-%d')} at a price of {in_prices[in_dates.index(start_date)]}$')\n",
    "\n",
    "            else:\n",
    "                # We do not want to inject when rate is greater than total volume minus volume\n",
    "                print(f'Injection is not possible on date {start_date.strftime('%Y-%m-%d')} as there is insufficient space in the storage facility')\n",
    "        \n",
    "        elif start_date in out_dates:\n",
    "            #Withdraw on these dates and sum cash flows\n",
    "            if volume >= rate:\n",
    "                volume -= rate\n",
    "                cash_in += rate * out_prices[out_dates.index(start_date)]\n",
    "                # Withdrawal cost\n",
    "                withdrawal_cost = rate * injection_withdrawal_cost_rate/1000000\n",
    "                cash_in -= withdrawal_cost\n",
    "                print(f'Extracted gas on {start_date.strftime('%Y-%m-%d')} at a price of {out_prices[out_dates.index(start_date)]}$')\n",
    "            else:\n",
    "                # we cannot withdraw more gas than is actually stored\n",
    "                print(f'Extraction is not possible on date {start_date.strftime('%Y-%m-%d')} as there is insufficient volume of gas stored')\n",
    "    store_cost = math.ceil((max(out_dates) - min(in_dates)).days // 30) * storage_cost_rate\n",
    "    return cash_in - buy_cost - store_cost"
   ]
  },
  {
   "cell_type": "code",
   "execution_count": 63,
   "metadata": {},
   "outputs": [
    {
     "name": "stdout",
     "output_type": "stream",
     "text": [
      "Injected gas on 2021-07-31 at a price of 10.1$\n",
      "Injected gas on 2021-11-30 at a price of 11.2$\n",
      "Extracted gas on 2022-03-31 at a price of 11.5$\n",
      "Injected gas on 2022-07-31 at a price of 10.5$\n",
      "Extracted gas on 2023-02-28 at a price of 11.7$\n",
      "Injected gas on 2023-06-30 at a price of 10.9$\n",
      "Extracted gas on 2024-01-31 at a price of 12.6$\n",
      "Extracted gas on 2025-02-28 at a price of 12.91$\n",
      "\n",
      "The value of the contract is: $163000.0\n"
     ]
    }
   ],
   "source": [
    "# Example usage of price_contract()\n",
    "in_dates = [date(2021, 7, 31), date(2021, 11, 30), date(2022, 7, 31), date(2023, 6, 30)] #injection dates\n",
    "in_prices = [round(get_gas_quote(in_date),2) for in_date in in_dates]#prices on the injection days\n",
    "out_dates = [date(2022, 3, 31), date(2023, 2, 28), date(2024, 1, 31), date(2025, 2, 28)] # extraction dates\n",
    "out_prices = [round(get_gas_quote(out_date),2) for out_date in out_dates] # prices on the extraction days\n",
    "\n",
    "# Commodity storage data\n",
    "rate = 100000  # MMBtu/month\n",
    "storage_cost_rate = 10000  # storage cost rate $/MMBtu/month\n",
    "injection_withdrawal_cost_rate = 10000  # $/MMBtu\n",
    "max_storage_volume = 50000000 # maximum storage capacity of the storage facility\n",
    "\n",
    "result = compute_contract_price(in_dates, in_prices, out_dates, out_prices, rate, storage_cost_rate, max_storage_volume, injection_withdrawal_cost_rate)\n",
    "print()\n",
    "print(f\"The value of the contract is: ${result}\")"
   ]
  },
  {
   "cell_type": "code",
   "execution_count": null,
   "metadata": {},
   "outputs": [],
   "source": []
  }
 ],
 "metadata": {
  "kernelspec": {
   "display_name": "base",
   "language": "python",
   "name": "python3"
  },
  "language_info": {
   "codemirror_mode": {
    "name": "ipython",
    "version": 3
   },
   "file_extension": ".py",
   "mimetype": "text/x-python",
   "name": "python",
   "nbconvert_exporter": "python",
   "pygments_lexer": "ipython3",
   "version": "3.12.2"
  }
 },
 "nbformat": 4,
 "nbformat_minor": 2
}
